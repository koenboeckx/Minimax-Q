{
 "cells": [
  {
   "cell_type": "markdown",
   "metadata": {},
   "source": [
    "An implementation of the 'soccer'-game proposed in (Littman, 94)\n",
    "----------------------------------------------------------------------------------"
   ]
  },
  {
   "cell_type": "markdown",
   "metadata": {},
   "source": [
    "# Soccer\n",
    "\n",
    "[Markov games as a framework for multi-agent reinforcement learning (Littman, 94)](https://www2.cs.duke.edu/courses/spring07/cps296.3/littman94markov.pdf)\n",
    "\n",
    "Rules of the game:\n",
    "* played by two players A & B on a 4x5 grid\n",
    "* A & B occupy distinct squares of the grid and can choose from 5 actions on each turn: N, S, E, W and stand. Once both players have selected their actions, the two moves are executes in  random order.\n",
    "* One player has the ball. If he steps with it in the appropiate goal, that player scores a goal and the board is reset to the original configuration. Possesion of the ball goes to one or the other player at random.\n",
    "* When a player takes an action that would take him to the square occupied by the other player (remember: random order of execution AFTER action choice!), possesion of the ball goes to the stationary player and the move doesn't take place. Goals are worth 1 point and the discount factor is set to 0.9, which makes scoring sooner somewhat better than scoring later."
   ]
  },
  {
   "cell_type": "code",
   "execution_count": 44,
   "metadata": {},
   "outputs": [],
   "source": [
    "import random\n",
    "from numpy.random import multinomial # for policy sampling\n",
    "import numpy as np"
   ]
  },
  {
   "cell_type": "code",
   "execution_count": 255,
   "metadata": {},
   "outputs": [],
   "source": [
    "class Soccer:\n",
    "    directions = dict(zip(['N', 'E', 'S', 'W'], [(0,-1), (1,0), (0,1), (-1,0)]))\n",
    "    def __init__(self, **kwargs):\n",
    "        self.players = ('A', 'B')\n",
    "        self.initialize()\n",
    "    \n",
    "    def show(self):\n",
    "        s = '----------------\\n'\n",
    "        for y in range(4):\n",
    "            for x in range(5):\n",
    "                s += '|'\n",
    "                if self.board[(x,y)] is not None:\n",
    "                    s += self.board[(x,y)]\n",
    "                    if self.has_ball == self.board[(x,y)]:\n",
    "                        s += 'o'\n",
    "                    else:\n",
    "                        s += ' '\n",
    "                else:\n",
    "                    s += '  '\n",
    "            s += '|\\n'\n",
    "            s += '----------------\\n'\n",
    "        print(s)\n",
    "        \n",
    "    def initialize(self):\n",
    "        self.board = dict(zip([(x, y) for x in range(5) for y in range(4)], [None]*20))\n",
    "        self.board[(3,1)] = self.players[0]\n",
    "        self.board[(1,2)] = self.players[1]\n",
    "        self.has_ball = random.choice(self.players)\n",
    "        self.winner = None\n",
    "    \n",
    "    def find_player(self, player):\n",
    "        for y in range(4):\n",
    "            for x in range(5):\n",
    "                if self.board[(x,y)]  == player:\n",
    "                    return (x,y)\n",
    "        raise KeyError('Player {} not found'.format(player))\n",
    "    \n",
    "    def other_player(self, player):\n",
    "        if player == 'A':\n",
    "            return 'B'\n",
    "        elif player == 'B':\n",
    "            return 'A'\n",
    "        else:\n",
    "            raise ValueError('Player {} not found'.format(player))\n",
    "    \n",
    "    def move(self, player, direction):\n",
    "        # direction in ['N', 'E', 'S', 'W']\n",
    "        (x, y) = self.find_player(player)\n",
    "        old_x, old_y = x, y\n",
    "        \n",
    "        # check if this leads to a win\n",
    "        if player == 'A' and (x,y) in [(0, 1), (0, 2)] and self.has_ball == 'A' and direction == 'W':\n",
    "            self.winner = 'A'\n",
    "        if player == 'B' and (x,y) in [(4, 1), (4, 2)] and self.has_ball == 'B' and direction == 'E':\n",
    "            self.winner = 'B'\n",
    "        \n",
    "        # compute rewards\n",
    "        if self.winner is None:\n",
    "            reward = 0\n",
    "        else:\n",
    "            if self.winner == player:\n",
    "                reward = 1\n",
    "            elif self.winner == self.other_player(player):\n",
    "                reward = -1\n",
    "        \n",
    "        self.board[(x, y)] = None\n",
    "        if direction == 'N':\n",
    "            y = max(0, y-1)\n",
    "        elif direction == 'E':\n",
    "            x = min(4, x+1)\n",
    "        elif direction == 'S':\n",
    "            y = min(3, y+1)\n",
    "        elif direction == 'W':\n",
    "            x = max(0, x-1)\n",
    "        else:\n",
    "            raise KeyError('Direction {} not valid'.format(direction))\n",
    "        if self.board[(x,y)] is None or self.board[(x,y)] == player:\n",
    "            self.board[(x,y)] = player\n",
    "        else: # player walked into other player's square\n",
    "            self.board[(old_x, old_y)] = player\n",
    "            if self.has_ball == player:\n",
    "                self.has_ball = self.other_player(player)\n",
    "        \n",
    "        return reward, self.board"
   ]
  },
  {
   "cell_type": "code",
   "execution_count": 256,
   "metadata": {},
   "outputs": [
    {
     "name": "stdout",
     "output_type": "stream",
     "text": [
      "----------------\n",
      "|  |  |  |  |  |\n",
      "----------------\n",
      "|  |  |  |A |  |\n",
      "----------------\n",
      "|  |Bo|  |  |  |\n",
      "----------------\n",
      "|  |  |  |  |  |\n",
      "----------------\n",
      "\n"
     ]
    }
   ],
   "source": [
    "soccer = Soccer()\n",
    "soccer.show()"
   ]
  },
  {
   "cell_type": "code",
   "execution_count": 257,
   "metadata": {},
   "outputs": [
    {
     "name": "stdout",
     "output_type": "stream",
     "text": [
      "----------------\n",
      "|  |  |  |  |  |\n",
      "----------------\n",
      "|  |  |  |A |  |\n",
      "----------------\n",
      "|  |  |Bo|  |  |\n",
      "----------------\n",
      "|  |  |  |  |  |\n",
      "----------------\n",
      "\n",
      "None\n"
     ]
    }
   ],
   "source": [
    "soccer.move('B', 'E')\n",
    "soccer.show()\n",
    "print(soccer.winner)"
   ]
  },
  {
   "cell_type": "code",
   "execution_count": 258,
   "metadata": {},
   "outputs": [],
   "source": [
    "def choose_action(actions, player, policy):\n",
    "    pvals = policy(moves, soccer)\n",
    "    r = multinomial(1, pvals)\n",
    "    return moves[int(np.where(r==1)[0])]"
   ]
  },
  {
   "cell_type": "code",
   "execution_count": 259,
   "metadata": {},
   "outputs": [],
   "source": [
    "class Policy:\n",
    "    def __init__(self, moves, game):\n",
    "        self.game = game\n",
    "        self.moves = moves\n",
    "    def __call__(self, moves, soccer):\n",
    "        return [1/len(moves)]*len(moves)"
   ]
  },
  {
   "cell_type": "code",
   "execution_count": 260,
   "metadata": {},
   "outputs": [],
   "source": [
    "soccer = Soccer()\n",
    "moves = ['N', 'E', 'S', 'W']\n",
    "policy = Policy(moves, soccer)"
   ]
  },
  {
   "cell_type": "code",
   "execution_count": 261,
   "metadata": {
    "scrolled": true
   },
   "outputs": [
    {
     "name": "stdout",
     "output_type": "stream",
     "text": [
      "----------------\n",
      "|  |  |  |  |  |\n",
      "----------------\n",
      "|  |  |  |  |  |\n",
      "----------------\n",
      "|Ao|B |  |  |  |\n",
      "----------------\n",
      "|  |  |  |  |  |\n",
      "----------------\n",
      "\n",
      "# moves = 36, winner = A\n"
     ]
    }
   ],
   "source": [
    "soccer = Soccer()\n",
    "moves = ['N', 'E', 'S', 'W']\n",
    "p = Policy(moves, soccer)\n",
    "\n",
    "i = 0\n",
    "while True:\n",
    "    _,_ = soccer.move('A', choose_action(moves, soccer, p))\n",
    "    if soccer.winner: break\n",
    "    _,_ = soccer.move('B', random.choice(moves))\n",
    "    if soccer.winner: break\n",
    "    i += 1\n",
    "soccer.show()\n",
    "print('# moves = {}, winner = {}'.format(i, soccer.winner))"
   ]
  },
  {
   "cell_type": "code",
   "execution_count": 264,
   "metadata": {},
   "outputs": [],
   "source": [
    "def play_game(game, moves, policy_A, policy_B):\n",
    "    i = 0\n",
    "    while True:\n",
    "        game.move('A', choose_action(moves, game, policy_A))\n",
    "        if game.winner: break\n",
    "        game.move('B', choose_action(moves, game, policy_B))\n",
    "        if game.winner: break\n",
    "        i += 1\n",
    "    game.show()\n",
    "    print('# moves = {}, winner = {}'.format(i, game.winner))"
   ]
  },
  {
   "cell_type": "code",
   "execution_count": 271,
   "metadata": {},
   "outputs": [
    {
     "name": "stdout",
     "output_type": "stream",
     "text": [
      "----------------\n",
      "|  |  |  |  |  |\n",
      "----------------\n",
      "|  |  |  |  |  |\n",
      "----------------\n",
      "|  |  |  |A |Bo|\n",
      "----------------\n",
      "|  |  |  |  |  |\n",
      "----------------\n",
      "\n",
      "# moves = 83, winner = B\n"
     ]
    }
   ],
   "source": [
    "soccer = Soccer()\n",
    "moves = ['N', 'E', 'S', 'W']\n",
    "policy_A = Policy(moves, soccer)\n",
    "policy_B = Policy(moves, soccer)\n",
    "play_game(soccer, moves, policy_A, policy_B)"
   ]
  },
  {
   "cell_type": "markdown",
   "metadata": {},
   "source": [
    "# Minimax-Q\n",
    "\n",
    " ![](./minimax_Q.png)"
   ]
  },
  {
   "cell_type": "code",
   "execution_count": 272,
   "metadata": {},
   "outputs": [],
   "source": [
    "def minimaxQ(game, moves, player='A', opponent='B', explor=.1):\n",
    "    # initialization\n",
    "    # Q = np.zeros()\n",
    "    \n",
    "    # choose an action\n",
    "    if random.uniform(0, 1) < explor:\n",
    "        action = random.choice(moves)\n",
    "    else:\n",
    "        action = policy(moves, game)\n",
    "    # Learn\n",
    "    reward, next_state = game.move(player, game)\n",
    "    if not reward == 1: # means game is not yet won, play other player\n",
    "        reward, next_state = game.move(game.other_player(player), game)"
   ]
  },
  {
   "cell_type": "code",
   "execution_count": 274,
   "metadata": {},
   "outputs": [
    {
     "data": {
      "text/plain": [
       "'B'"
      ]
     },
     "execution_count": 274,
     "metadata": {},
     "output_type": "execute_result"
    }
   ],
   "source": [
    "game = soccer\n",
    "game.other_player('A')"
   ]
  }
 ],
 "metadata": {
  "kernelspec": {
   "display_name": "Python 3",
   "language": "python",
   "name": "python3"
  },
  "language_info": {
   "codemirror_mode": {
    "name": "ipython",
    "version": 3
   },
   "file_extension": ".py",
   "mimetype": "text/x-python",
   "name": "python",
   "nbconvert_exporter": "python",
   "pygments_lexer": "ipython3",
   "version": "3.6.6"
  }
 },
 "nbformat": 4,
 "nbformat_minor": 2
}
